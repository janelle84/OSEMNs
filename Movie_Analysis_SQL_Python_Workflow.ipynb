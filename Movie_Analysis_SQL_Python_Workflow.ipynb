{
  "cells": [
    {
      "cell_type": "code",
      "source": [
        "import sqlite3\n",
        "import pandas as pd\n",
        "import tensorflow as tf\n",
        "\n",
        "# Load the IMDB dataset\n",
        "(train_data, train_labels), (test_data, test_labels) = tf.keras.datasets.imdb.load_data(num_words=10000)\n",
        "\n",
        "# Get the word index mapping\n",
        "word_index = tf.keras.datasets.imdb.get_word_index()\n",
        "\n",
        "# Add special tokens to word index\n",
        "word_index = {k: (v + 3) for k, v in word_index.items()}\n",
        "word_index[\"<PAD>\"] = 0\n",
        "word_index[\"<START>\"] = 1\n",
        "word_index[\"<UNK>\"] = 2\n",
        "word_index[\"<UNUSED>\"] = 3\n",
        "\n",
        "# Reverse the word index\n",
        "reverse_word_index = {value: key for key, value in word_index.items()}\n",
        "\n",
        "# Decode reviews\n",
        "def decode_review(encoded_review):\n",
        "    return \" \".join([reverse_word_index.get(i, \"?\") for i in encoded_review])\n",
        "\n",
        "# Decode training data\n",
        "decoded_train_reviews = [decode_review(review) for review in train_data]\n",
        "decoded_test_reviews = [decode_review(review) for review in test_data]\n",
        "\n",
        "# Create a DataFrame for the train data\n",
        "train_df = pd.DataFrame({\n",
        "    \"review\": decoded_train_reviews,\n",
        "    \"label\": train_labels\n",
        "})\n",
        "\n",
        "# Create a DataFrame for the test data\n",
        "test_df = pd.DataFrame({\n",
        "    \"review\": decoded_test_reviews,\n",
        "    \"label\": test_labels\n",
        "})\n",
        "\n",
        "# Save the data to SQLite\n",
        "conn = sqlite3.connect(\"imdb_reviews.db\")\n",
        "train_df.to_sql(\"train_reviews\", conn, if_exists=\"replace\", index=False)\n",
        "test_df.to_sql(\"test_reviews\", conn, if_exists=\"replace\", index=False)\n",
        "\n",
        "print(\"Data saved to SQLite database 'imdb_reviews.db'.\")\n"
      ],
      "metadata": {
        "colab": {
          "base_uri": "https://localhost:8080/"
        },
        "id": "1Qr6cqaqoHCU",
        "outputId": "d2950e2f-ad15-4d1a-9a2a-a1aec85e6105"
      },
      "id": "1Qr6cqaqoHCU",
      "execution_count": 1,
      "outputs": [
        {
          "output_type": "stream",
          "name": "stdout",
          "text": [
            "Data saved to SQLite database 'imdb_reviews.db'.\n"
          ]
        }
      ]
    },
    {
      "cell_type": "code",
      "source": [
        "# Example: Query data from SQLite\n",
        "query = \"\"\"\n",
        "SELECT review, label\n",
        "FROM train_reviews\n",
        "WHERE label = 1\n",
        "LIMIT 5;\n",
        "\"\"\"\n",
        "\n",
        "positive_reviews = pd.read_sql(query, conn)\n",
        "print(\"Positive reviews:\\n\", positive_reviews)"
      ],
      "metadata": {
        "colab": {
          "base_uri": "https://localhost:8080/"
        },
        "id": "EYvL8G15oPaU",
        "outputId": "b56df87f-ef39-4d61-a972-51146c65d25b"
      },
      "id": "EYvL8G15oPaU",
      "execution_count": 2,
      "outputs": [
        {
          "output_type": "stream",
          "name": "stdout",
          "text": [
            "Positive reviews:\n",
            "                                               review  label\n",
            "0  <START> this film was just brilliant casting l...      1\n",
            "1  <START> the <UNK> <UNK> at storytelling the tr...      1\n",
            "2  <START> lavish production values and solid per...      1\n",
            "3  <START> just got out and cannot believe what a...      1\n",
            "4  <START> french horror cinema has seen somethin...      1\n"
          ]
        }
      ]
    },
    {
      "cell_type": "markdown",
      "id": "88def7ed",
      "metadata": {
        "id": "88def7ed"
      },
      "source": [
        "## Analysis\n",
        "### 1. Preprocess Data for TensorFlow"
      ]
    },
    {
      "cell_type": "code",
      "execution_count": 3,
      "id": "48fe40aa",
      "metadata": {
        "id": "48fe40aa"
      },
      "outputs": [],
      "source": [
        "# Load training data from SQLite\n",
        "train_query = \"SELECT * FROM train_reviews;\"\n",
        "train_data_sql = pd.read_sql(train_query, conn)\n",
        "\n",
        "# Load testing data from SQLite\n",
        "test_query = \"SELECT * FROM test_reviews;\"\n",
        "test_data_sql = pd.read_sql(test_query, conn)\n",
        "\n",
        "# Extract reviews and labels\n",
        "train_reviews = train_data_sql[\"review\"].tolist()\n",
        "train_labels = train_data_sql[\"label\"].tolist()\n",
        "\n",
        "test_reviews = test_data_sql[\"review\"].tolist()\n",
        "test_labels = test_data_sql[\"label\"].tolist()\n",
        "\n",
        "# Tokenize and pad sequences\n",
        "from tensorflow.keras.preprocessing.text import Tokenizer\n",
        "from tensorflow.keras.preprocessing.sequence import pad_sequences\n",
        "\n",
        "# Tokenize text\n",
        "tokenizer = Tokenizer(num_words=10000)\n",
        "tokenizer.fit_on_texts(train_reviews)\n",
        "\n",
        "train_sequences = tokenizer.texts_to_sequences(train_reviews)\n",
        "test_sequences = tokenizer.texts_to_sequences(test_reviews)\n",
        "\n",
        "# Pad sequences\n",
        "train_data_padded = pad_sequences(train_sequences, maxlen=256, padding=\"post\", truncating=\"post\")\n",
        "test_data_padded = pad_sequences(test_sequences, maxlen=256, padding=\"post\", truncating=\"post\")\n"
      ]
    },
    {
      "cell_type": "markdown",
      "id": "f9608a4f",
      "metadata": {
        "id": "f9608a4f"
      },
      "source": [
        "### 2. Train the Model"
      ]
    },
    {
      "cell_type": "code",
      "execution_count": 4,
      "id": "e8a443a5",
      "metadata": {
        "colab": {
          "base_uri": "https://localhost:8080/"
        },
        "id": "e8a443a5",
        "outputId": "2c80a6b0-050b-4d2e-fd08-452fc50d247f"
      },
      "outputs": [
        {
          "output_type": "stream",
          "name": "stdout",
          "text": [
            "Epoch 1/10\n",
            "\u001b[1m40/40\u001b[0m \u001b[32m━━━━━━━━━━━━━━━━━━━━\u001b[0m\u001b[37m\u001b[0m \u001b[1m2s\u001b[0m 23ms/step - accuracy: 0.5290 - loss: 0.6911 - val_accuracy: 0.6774 - val_loss: 0.6799\n",
            "Epoch 2/10\n",
            "\u001b[1m40/40\u001b[0m \u001b[32m━━━━━━━━━━━━━━━━━━━━\u001b[0m\u001b[37m\u001b[0m \u001b[1m1s\u001b[0m 18ms/step - accuracy: 0.6212 - loss: 0.6752 - val_accuracy: 0.7278 - val_loss: 0.6528\n",
            "Epoch 3/10\n",
            "\u001b[1m40/40\u001b[0m \u001b[32m━━━━━━━━━━━━━━━━━━━━\u001b[0m\u001b[37m\u001b[0m \u001b[1m1s\u001b[0m 18ms/step - accuracy: 0.7250 - loss: 0.6425 - val_accuracy: 0.7714 - val_loss: 0.6069\n",
            "Epoch 4/10\n",
            "\u001b[1m40/40\u001b[0m \u001b[32m━━━━━━━━━━━━━━━━━━━━\u001b[0m\u001b[37m\u001b[0m \u001b[1m1s\u001b[0m 19ms/step - accuracy: 0.7650 - loss: 0.5924 - val_accuracy: 0.7982 - val_loss: 0.5507\n",
            "Epoch 5/10\n",
            "\u001b[1m40/40\u001b[0m \u001b[32m━━━━━━━━━━━━━━━━━━━━\u001b[0m\u001b[37m\u001b[0m \u001b[1m1s\u001b[0m 18ms/step - accuracy: 0.8048 - loss: 0.5293 - val_accuracy: 0.8190 - val_loss: 0.4939\n",
            "Epoch 6/10\n",
            "\u001b[1m40/40\u001b[0m \u001b[32m━━━━━━━━━━━━━━━━━━━━\u001b[0m\u001b[37m\u001b[0m \u001b[1m1s\u001b[0m 19ms/step - accuracy: 0.8250 - loss: 0.4739 - val_accuracy: 0.8160 - val_loss: 0.4543\n",
            "Epoch 7/10\n",
            "\u001b[1m40/40\u001b[0m \u001b[32m━━━━━━━━━━━━━━━━━━━━\u001b[0m\u001b[37m\u001b[0m \u001b[1m2s\u001b[0m 25ms/step - accuracy: 0.8326 - loss: 0.4263 - val_accuracy: 0.8428 - val_loss: 0.4134\n",
            "Epoch 8/10\n",
            "\u001b[1m40/40\u001b[0m \u001b[32m━━━━━━━━━━━━━━━━━━━━\u001b[0m\u001b[37m\u001b[0m \u001b[1m1s\u001b[0m 29ms/step - accuracy: 0.8498 - loss: 0.3919 - val_accuracy: 0.8508 - val_loss: 0.3887\n",
            "Epoch 9/10\n",
            "\u001b[1m40/40\u001b[0m \u001b[32m━━━━━━━━━━━━━━━━━━━━\u001b[0m\u001b[37m\u001b[0m \u001b[1m1s\u001b[0m 34ms/step - accuracy: 0.8687 - loss: 0.3598 - val_accuracy: 0.8448 - val_loss: 0.3778\n",
            "Epoch 10/10\n",
            "\u001b[1m40/40\u001b[0m \u001b[32m━━━━━━━━━━━━━━━━━━━━\u001b[0m\u001b[37m\u001b[0m \u001b[1m2s\u001b[0m 18ms/step - accuracy: 0.8706 - loss: 0.3382 - val_accuracy: 0.8628 - val_loss: 0.3535\n"
          ]
        }
      ],
      "source": [
        "import numpy as np\n",
        "\n",
        "# Convert labels to NumPy arrays\n",
        "train_labels = np.array(train_labels)\n",
        "test_labels = np.array(test_labels)\n",
        "\n",
        "from tensorflow.keras import Sequential\n",
        "from tensorflow.keras.layers import Embedding, GlobalAveragePooling1D, Dense\n",
        "\n",
        "model = Sequential([\n",
        "    Embedding(10000, 16),                  # Embedding layer\n",
        "    GlobalAveragePooling1D(),             # Pooling layer\n",
        "    Dense(16, activation=\"relu\"),         # Hidden layer\n",
        "    Dense(1, activation=\"sigmoid\")        # Output layer\n",
        "])\n",
        "\n",
        "# Compile the model\n",
        "model.compile(optimizer=\"adam\", loss=\"binary_crossentropy\", metrics=[\"accuracy\"])\n",
        "\n",
        "# Train the model\n",
        "history = model.fit(\n",
        "    train_data_padded,\n",
        "    train_labels,\n",
        "    epochs=10,\n",
        "    batch_size=512,\n",
        "    validation_split=0.2,\n",
        "    verbose=1\n",
        ")"
      ]
    },
    {
      "cell_type": "markdown",
      "id": "3a7c971a",
      "metadata": {
        "id": "3a7c971a"
      },
      "source": [
        "### 3. Query for Insights"
      ]
    },
    {
      "cell_type": "code",
      "execution_count": 5,
      "id": "6e132314",
      "metadata": {
        "id": "6e132314",
        "colab": {
          "base_uri": "https://localhost:8080/"
        },
        "outputId": "3c1df675-9d1f-467b-a228-8c1e4a7ee21a"
      },
      "outputs": [
        {
          "output_type": "stream",
          "name": "stdout",
          "text": [
            "Label distribution:\n",
            "    label  count\n",
            "0      0  12500\n",
            "1      1  12500\n"
          ]
        }
      ],
      "source": [
        "# Query to count positive and negative reviews\n",
        "query = \"\"\"\n",
        "SELECT label, COUNT(*) AS count\n",
        "FROM train_reviews\n",
        "GROUP BY label;\n",
        "\"\"\"\n",
        "\n",
        "label_distribution = pd.read_sql(query, conn)\n",
        "print(\"Label distribution:\\n\", label_distribution)"
      ]
    },
    {
      "cell_type": "code",
      "source": [
        "import matplotlib.pyplot as plt\n",
        "\n",
        "# Calculate the length of each review\n",
        "train_data_sql['review_length'] = train_data_sql['review'].apply(lambda x: len(x.split()))\n",
        "\n",
        "# Plot the distribution\n",
        "plt.hist(train_data_sql[train_data_sql['label'] == 0]['review_length'], bins=30, alpha=0.5, label='Negative')\n",
        "plt.hist(train_data_sql[train_data_sql['label'] == 1]['review_length'], bins=30, alpha=0.5, label='Positive')\n",
        "plt.xlabel('Review Length')\n",
        "plt.ylabel('Frequency')\n",
        "plt.title('Review Length Distribution')\n",
        "plt.legend()\n",
        "plt.show()"
      ],
      "metadata": {
        "colab": {
          "base_uri": "https://localhost:8080/",
          "height": 472
        },
        "id": "Fe0TtTH2qMmL",
        "outputId": "27e0ccbf-f5dc-4459-dd8b-9ddad9230f74"
      },
      "id": "Fe0TtTH2qMmL",
      "execution_count": 6,
      "outputs": [
        {
          "output_type": "display_data",
          "data": {
            "text/plain": [
              "<Figure size 640x480 with 1 Axes>"
            ],
            "image/png": "[encoded data removed]"
          },
          "metadata": {}
        }
      ]
    },
    {
      "cell_type": "code",
      "source": [],
      "metadata": {
        "id": "oM3-iTUKqZpg"
      },
      "id": "oM3-iTUKqZpg",
      "execution_count": null,
      "outputs": []
    }
  ],
  "metadata": {
    "colab": {
      "provenance": []
    },
    "language_info": {
      "name": "python"
    },
    "kernelspec": {
      "name": "python3",
      "display_name": "Python 3"
    }
  },
  "nbformat": 4,
  "nbformat_minor": 5
}